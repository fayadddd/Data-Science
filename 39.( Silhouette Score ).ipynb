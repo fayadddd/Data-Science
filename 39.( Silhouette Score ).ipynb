{
 "cells": [
  {
   "cell_type": "markdown",
   "id": "1a78da3a-a3f4-453e-8b30-a952c4fc8f8f",
   "metadata": {},
   "source": [
    "### Silhouette Score (-1 <= ss <= 1) \n",
    "### - if it's (greater than 1) it could be a good Cluster Finding accuracy \n",
    "### - if it's (smaller then 1 or -1)  it could be a bad Cluster Finding accuracy"
   ]
  },
  {
   "cell_type": "code",
   "execution_count": 45,
   "id": "ad00a349-9cac-45a9-bb85-c998a1b8b43c",
   "metadata": {},
   "outputs": [],
   "source": [
    "import pandas as pd \n",
    "import matplotlib.pyplot as plt\n",
    "import seaborn as sns"
   ]
  },
  {
   "cell_type": "code",
   "execution_count": 46,
   "id": "f24ce849-6248-49a8-9400-99268d7ea8a9",
   "metadata": {},
   "outputs": [
    {
     "data": {
      "text/html": [
       "<div>\n",
       "<style scoped>\n",
       "    .dataframe tbody tr th:only-of-type {\n",
       "        vertical-align: middle;\n",
       "    }\n",
       "\n",
       "    .dataframe tbody tr th {\n",
       "        vertical-align: top;\n",
       "    }\n",
       "\n",
       "    .dataframe thead th {\n",
       "        text-align: right;\n",
       "    }\n",
       "</style>\n",
       "<table border=\"1\" class=\"dataframe\">\n",
       "  <thead>\n",
       "    <tr style=\"text-align: right;\">\n",
       "      <th></th>\n",
       "      <th>sepal.length</th>\n",
       "      <th>sepal.width</th>\n",
       "      <th>petal.length</th>\n",
       "      <th>petal.width</th>\n",
       "    </tr>\n",
       "  </thead>\n",
       "  <tbody>\n",
       "    <tr>\n",
       "      <th>0</th>\n",
       "      <td>5.1</td>\n",
       "      <td>3.5</td>\n",
       "      <td>1.4</td>\n",
       "      <td>0.2</td>\n",
       "    </tr>\n",
       "    <tr>\n",
       "      <th>1</th>\n",
       "      <td>4.9</td>\n",
       "      <td>3.0</td>\n",
       "      <td>1.4</td>\n",
       "      <td>0.2</td>\n",
       "    </tr>\n",
       "    <tr>\n",
       "      <th>2</th>\n",
       "      <td>4.7</td>\n",
       "      <td>3.2</td>\n",
       "      <td>1.3</td>\n",
       "      <td>0.2</td>\n",
       "    </tr>\n",
       "    <tr>\n",
       "      <th>3</th>\n",
       "      <td>4.6</td>\n",
       "      <td>3.1</td>\n",
       "      <td>1.5</td>\n",
       "      <td>0.2</td>\n",
       "    </tr>\n",
       "    <tr>\n",
       "      <th>4</th>\n",
       "      <td>5.0</td>\n",
       "      <td>3.6</td>\n",
       "      <td>1.4</td>\n",
       "      <td>0.2</td>\n",
       "    </tr>\n",
       "  </tbody>\n",
       "</table>\n",
       "</div>"
      ],
      "text/plain": [
       "   sepal.length  sepal.width  petal.length  petal.width\n",
       "0           5.1          3.5           1.4          0.2\n",
       "1           4.9          3.0           1.4          0.2\n",
       "2           4.7          3.2           1.3          0.2\n",
       "3           4.6          3.1           1.5          0.2\n",
       "4           5.0          3.6           1.4          0.2"
      ]
     },
     "execution_count": 46,
     "metadata": {},
     "output_type": "execute_result"
    }
   ],
   "source": [
    "dataset = pd.read_csv(r\"C:\\Users\\My\\Downloads\\iris.csv\")\n",
    "dataset.head()"
   ]
  },
  {
   "cell_type": "markdown",
   "id": "b51dfc94-3936-49fb-827f-6104df555d01",
   "metadata": {},
   "source": [
    "# KMeans Clusting Accurecy test"
   ]
  },
  {
   "cell_type": "code",
   "execution_count": 47,
   "id": "a2fe3473-6cfb-4398-8ce8-c0131c88f24e",
   "metadata": {},
   "outputs": [],
   "source": [
    "from sklearn.cluster import KMeans"
   ]
  },
  {
   "cell_type": "code",
   "execution_count": 48,
   "id": "3859c888-70d2-4e47-b720-69ed935d17ba",
   "metadata": {},
   "outputs": [],
   "source": [
    "wcss = []\n",
    "\n",
    "for i in range(2,21): \n",
    "    km = KMeans(n_clusters=i, init='k-means++')\n",
    "    km.fit(dataset)\n",
    "    wcss.append(km.inertia_)"
   ]
  },
  {
   "cell_type": "code",
   "execution_count": 49,
   "id": "dbdafe1b-a98f-40c0-a77b-27ff982e36cc",
   "metadata": {},
   "outputs": [
    {
     "data": {
      "text/plain": [
       "array([1, 1, 1, 1, 1, 1, 1, 1, 1, 1, 1, 1, 1, 1, 1, 1, 1, 1, 1, 1, 1, 1,\n",
       "       1, 1, 1, 1, 1, 1, 1, 1, 1, 1, 1, 1, 1, 1, 1, 1, 1, 1, 1, 1, 1, 1,\n",
       "       1, 1, 1, 1, 1, 1, 0, 0, 2, 0, 0, 0, 0, 0, 0, 0, 0, 0, 0, 0, 0, 0,\n",
       "       0, 0, 0, 0, 0, 0, 0, 0, 0, 0, 0, 2, 0, 0, 0, 0, 0, 0, 0, 0, 0, 0,\n",
       "       0, 0, 0, 0, 0, 0, 0, 0, 0, 0, 0, 0, 2, 0, 2, 2, 2, 2, 0, 2, 2, 2,\n",
       "       2, 2, 2, 0, 0, 2, 2, 2, 2, 0, 2, 0, 2, 0, 2, 2, 0, 0, 2, 2, 2, 2,\n",
       "       2, 0, 2, 2, 2, 2, 0, 2, 2, 2, 0, 2, 2, 2, 0, 2, 2, 0])"
      ]
     },
     "execution_count": 49,
     "metadata": {},
     "output_type": "execute_result"
    }
   ],
   "source": [
    "kmn = KMeans(n_clusters=3)\n",
    "kmn.fit_predict(dataset)"
   ]
  },
  {
   "cell_type": "markdown",
   "id": "31035f06-06c3-490f-86a1-44d355bcb4c0",
   "metadata": {},
   "source": [
    "### • wcss = 3"
   ]
  },
  {
   "cell_type": "code",
   "execution_count": 50,
   "id": "5c87e205-f597-47df-b269-12fb38fc45fa",
   "metadata": {},
   "outputs": [],
   "source": [
    "from sklearn.metrics import silhouette_score"
   ]
  },
  {
   "cell_type": "code",
   "execution_count": 51,
   "id": "259d3341-d4cf-4248-bcf7-387b20114819",
   "metadata": {},
   "outputs": [
    {
     "data": {
      "text/plain": [
       "0.5528190123564102"
      ]
     },
     "execution_count": 51,
     "metadata": {},
     "output_type": "execute_result"
    }
   ],
   "source": [
    "ss = silhouette_score(dataset,labels=kmn.labels_)\n",
    "ss"
   ]
  },
  {
   "cell_type": "code",
   "execution_count": 52,
   "id": "813efd1c-587e-4c7c-bb34-3c5deefa61c3",
   "metadata": {},
   "outputs": [],
   "source": [
    "# -1 <= ss✅\n",
    "# ss < 1 ✅"
   ]
  },
  {
   "cell_type": "code",
   "execution_count": 53,
   "id": "91212908-9705-4028-aeaf-1537bafccdd8",
   "metadata": {},
   "outputs": [],
   "source": [
    "ss=[]\n",
    "no_cluster = [j for j in range(2,21)]\n",
    "for i in range(2,21): \n",
    "    km = KMeans(n_clusters=i)\n",
    "    km.fit(dataset)\n",
    "    ss.append(silhouette_score(dataset,km.labels_))"
   ]
  },
  {
   "cell_type": "code",
   "execution_count": 54,
   "id": "1e6d77f9-f280-40ad-9be9-b31caab1fcd3",
   "metadata": {},
   "outputs": [
    {
     "data": {
      "image/png": "[encoded data removed]",
      "text/plain": [
       "<Figure size 1000x300 with 1 Axes>"
      ]
     },
     "metadata": {},
     "output_type": "display_data"
    }
   ],
   "source": [
    "plt.figure(figsize=(10,3))\n",
    "plt.plot(no_cluster,ss)\n",
    "plt.xticks(no_cluster)\n",
    "plt.xlabel(\"no_of_Cluster\")\n",
    "plt.ylabel(\"silhouette_score\")\n",
    "plt.grid('x')\n",
    "plt.show()"
   ]
  },
  {
   "cell_type": "code",
   "execution_count": 55,
   "id": "3e1fd7eb-b2ac-465a-ad1a-45e9b9eedb36",
   "metadata": {},
   "outputs": [],
   "source": [
    "# The Graph start from 2 no_of_Cluster So (Cluster = 2)"
   ]
  },
  {
   "cell_type": "markdown",
   "id": "0597c525-79e5-4aca-a6e8-531920d3b919",
   "metadata": {},
   "source": [
    "###        - Result -\n",
    "###  • K-mean show Cluster = 3  \n",
    "###  • Silhouette Score show Cluster = 2"
   ]
  },
  {
   "cell_type": "markdown",
   "id": "89de2603-f52b-417e-a60f-2c57131a0006",
   "metadata": {},
   "source": [
    "# Hierarchical Clustering Accurecy test"
   ]
  },
  {
   "cell_type": "code",
   "execution_count": 56,
   "id": "3e68765b-69d7-4131-a65f-32faa3f69fb2",
   "metadata": {},
   "outputs": [],
   "source": [
    "from sklearn.cluster import AgglomerativeClustering"
   ]
  },
  {
   "cell_type": "code",
   "execution_count": 57,
   "id": "60b2224d-5c5b-4f2e-9a98-cec58a238985",
   "metadata": {},
   "outputs": [
    {
     "data": {
      "text/html": [
       "<div>\n",
       "<style scoped>\n",
       "    .dataframe tbody tr th:only-of-type {\n",
       "        vertical-align: middle;\n",
       "    }\n",
       "\n",
       "    .dataframe tbody tr th {\n",
       "        vertical-align: top;\n",
       "    }\n",
       "\n",
       "    .dataframe thead th {\n",
       "        text-align: right;\n",
       "    }\n",
       "</style>\n",
       "<table border=\"1\" class=\"dataframe\">\n",
       "  <thead>\n",
       "    <tr style=\"text-align: right;\">\n",
       "      <th></th>\n",
       "      <th>sepal.length</th>\n",
       "      <th>sepal.width</th>\n",
       "      <th>petal.length</th>\n",
       "      <th>petal.width</th>\n",
       "      <th>Predicted_data</th>\n",
       "    </tr>\n",
       "  </thead>\n",
       "  <tbody>\n",
       "    <tr>\n",
       "      <th>0</th>\n",
       "      <td>5.1</td>\n",
       "      <td>3.5</td>\n",
       "      <td>1.4</td>\n",
       "      <td>0.2</td>\n",
       "      <td>1</td>\n",
       "    </tr>\n",
       "    <tr>\n",
       "      <th>1</th>\n",
       "      <td>4.9</td>\n",
       "      <td>3.0</td>\n",
       "      <td>1.4</td>\n",
       "      <td>0.2</td>\n",
       "      <td>1</td>\n",
       "    </tr>\n",
       "    <tr>\n",
       "      <th>2</th>\n",
       "      <td>4.7</td>\n",
       "      <td>3.2</td>\n",
       "      <td>1.3</td>\n",
       "      <td>0.2</td>\n",
       "      <td>1</td>\n",
       "    </tr>\n",
       "    <tr>\n",
       "      <th>3</th>\n",
       "      <td>4.6</td>\n",
       "      <td>3.1</td>\n",
       "      <td>1.5</td>\n",
       "      <td>0.2</td>\n",
       "      <td>1</td>\n",
       "    </tr>\n",
       "    <tr>\n",
       "      <th>4</th>\n",
       "      <td>5.0</td>\n",
       "      <td>3.6</td>\n",
       "      <td>1.4</td>\n",
       "      <td>0.2</td>\n",
       "      <td>1</td>\n",
       "    </tr>\n",
       "  </tbody>\n",
       "</table>\n",
       "</div>"
      ],
      "text/plain": [
       "   sepal.length  sepal.width  petal.length  petal.width  Predicted_data\n",
       "0           5.1          3.5           1.4          0.2               1\n",
       "1           4.9          3.0           1.4          0.2               1\n",
       "2           4.7          3.2           1.3          0.2               1\n",
       "3           4.6          3.1           1.5          0.2               1\n",
       "4           5.0          3.6           1.4          0.2               1"
      ]
     },
     "execution_count": 57,
     "metadata": {},
     "output_type": "execute_result"
    }
   ],
   "source": [
    "ac = AgglomerativeClustering(n_clusters=2,linkage=\"single\")\n",
    "dataset[\"Predicted_data\"] = ac.fit_predict(dataset)\n",
    "dataset.head()"
   ]
  },
  {
   "cell_type": "markdown",
   "id": "2b002698-5fe3-4dc4-916d-266bb9188a10",
   "metadata": {},
   "source": [
    "### • ac = 2"
   ]
  },
  {
   "cell_type": "code",
   "execution_count": 58,
   "id": "b721c787-611a-41f1-945c-0199f221166c",
   "metadata": {},
   "outputs": [],
   "source": [
    "from sklearn.metrics import silhouette_score"
   ]
  },
  {
   "cell_type": "code",
   "execution_count": 59,
   "id": "dbd233e0-f40f-4601-b7f0-0815c269fa9e",
   "metadata": {},
   "outputs": [
    {
     "data": {
      "text/plain": [
       "0.5576853964035263"
      ]
     },
     "execution_count": 59,
     "metadata": {},
     "output_type": "execute_result"
    }
   ],
   "source": [
    "ss = silhouette_score(dataset,labels=kmn.labels_)\n",
    "ss"
   ]
  },
  {
   "cell_type": "code",
   "execution_count": 62,
   "id": "c401dc27-1ef8-4ee0-a7ed-5b9ff742fe3f",
   "metadata": {},
   "outputs": [],
   "source": [
    "ss=[]\n",
    "no_cluster = [j for j in range(2,21)]\n",
    "for i in range(2,21): \n",
    "    ac = AgglomerativeClustering(n_clusters=i)\n",
    "    ac.fit(dataset)\n",
    "    ss.append(silhouette_score(dataset,ac.labels_))"
   ]
  },
  {
   "cell_type": "code",
   "execution_count": 63,
   "id": "97f97478-1431-47dc-a534-0faf0adf5aea",
   "metadata": {},
   "outputs": [
    {
     "data": {
      "image/png": "[encoded data removed]",
      "text/plain": [
       "<Figure size 1000x300 with 1 Axes>"
      ]
     },
     "metadata": {},
     "output_type": "display_data"
    }
   ],
   "source": [
    "plt.figure(figsize=(10,3))\n",
    "plt.plot(no_cluster,ss)\n",
    "plt.xticks(no_cluster)\n",
    "plt.xlabel(\"no_of_Cluster\")\n",
    "plt.ylabel(\"silhouette_score\")\n",
    "plt.grid('x')\n",
    "plt.show()"
   ]
  },
  {
   "cell_type": "markdown",
   "id": "87ec3468-46d3-42a6-8482-d2980104a24c",
   "metadata": {},
   "source": [
    "###        - Result -\n",
    "###  • Hierarchical Clustering show Cluster = 2  \n",
    "###  • Silhouette Score show Cluster = 2"
   ]
  },
  {
   "cell_type": "code",
   "execution_count": null,
   "id": "610d9370-6be5-40cc-bb6a-78c008762677",
   "metadata": {},
   "outputs": [],
   "source": []
  }
 ],
 "metadata": {
  "kernelspec": {
   "display_name": "Python 3 (ipykernel)",
   "language": "python",
   "name": "python3"
  },
  "language_info": {
   "codemirror_mode": {
    "name": "ipython",
    "version": 3
   },
   "file_extension": ".py",
   "mimetype": "text/x-python",
   "name": "python",
   "nbconvert_exporter": "python",
   "pygments_lexer": "ipython3",
   "version": "3.12.5"
  }
 },
 "nbformat": 4,
 "nbformat_minor": 5
}
