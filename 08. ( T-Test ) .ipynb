{
 "cells": [
  {
   "cell_type": "code",
   "execution_count": 2,
   "id": "f580f8eb-82f7-44eb-b094-1f08db2c5bb2",
   "metadata": {},
   "outputs": [],
   "source": [
    "import scipy.stats as st\n",
    "import numpy as np "
   ]
  },
  {
   "cell_type": "markdown",
   "id": "171a5b85-f0f4-4968-8c6f-d73369995516",
   "metadata": {},
   "source": [
    "## Exmple-1"
   ]
  },
  {
   "cell_type": "code",
   "execution_count": 3,
   "id": "72008a2b-d4f6-4046-ae65-a9cd94ac65d8",
   "metadata": {},
   "outputs": [
    {
     "data": {
      "text/plain": [
       "'Ho = 150\\n   Ha = Population_mean<150'"
      ]
     },
     "execution_count": 3,
     "metadata": {},
     "output_type": "execute_result"
    }
   ],
   "source": [
    "'''Ho = 150\n",
    "   Ha = Population_mean<150'''"
   ]
  },
  {
   "cell_type": "code",
   "execution_count": 4,
   "id": "1b97e8d1-4b5e-44a5-8160-03b599d58875",
   "metadata": {},
   "outputs": [],
   "source": [
    "Sample_mean = 148\n",
    "Population_mean = 150\n",
    "Sample_STD = 5\n",
    "n = 25\n",
    "Alpha = 0.05"
   ]
  },
  {
   "cell_type": "code",
   "execution_count": 5,
   "id": "5d8b21ec-15f1-4b56-a6aa-1b4933aacae5",
   "metadata": {},
   "outputs": [
    {
     "data": {
      "text/plain": [
       "24"
      ]
     },
     "execution_count": 5,
     "metadata": {},
     "output_type": "execute_result"
    }
   ],
   "source": [
    "df = (n-1)\n",
    "df"
   ]
  },
  {
   "cell_type": "code",
   "execution_count": 6,
   "id": "1fc0bcfa-b9bf-4afc-bc41-470db401e486",
   "metadata": {},
   "outputs": [
    {
     "data": {
      "text/plain": [
       "-1.7108820799094282"
      ]
     },
     "execution_count": 6,
     "metadata": {},
     "output_type": "execute_result"
    }
   ],
   "source": [
    "T_table = st.t.ppf(Alpha,df)\n",
    "T_table"
   ]
  },
  {
   "cell_type": "code",
   "execution_count": 7,
   "id": "993053a8-947f-44fc-956c-5fd56cc2c41a",
   "metadata": {},
   "outputs": [
    {
     "data": {
      "text/plain": [
       "-2.0"
      ]
     },
     "execution_count": 7,
     "metadata": {},
     "output_type": "execute_result"
    }
   ],
   "source": [
    "T_cal = (Sample_mean-Population_mean)/(5/np.sqrt(25))\n",
    "T_cal                                                  "
   ]
  },
  {
   "cell_type": "code",
   "execution_count": 8,
   "id": "65af5533-1610-48de-989f-f03a9997268d",
   "metadata": {},
   "outputs": [
    {
     "name": "stdout",
     "output_type": "stream",
     "text": [
      "Ha is Right\n"
     ]
    }
   ],
   "source": [
    "if T_cal > T_table:                       # -3  -2 - 1  0  1  2  3\n",
    "    print(\"Ho is Right\")                  #           < 0 >\n",
    "else :                                    # for (-) value < is greater\n",
    "    print(\"Ha is Right\")                  # for (+) value > is greater"
   ]
  },
  {
   "cell_type": "markdown",
   "id": "3aef962c-1a47-43a1-8de4-22bcd0509777",
   "metadata": {},
   "source": [
    "## Eample -2"
   ]
  },
  {
   "cell_type": "code",
   "execution_count": 9,
   "id": "173f2a24-2232-4609-91fa-5b791d9260d9",
   "metadata": {},
   "outputs": [
    {
     "data": {
      "text/plain": [
       "'Ho => Pa-Pb = 0\\n   Ha => Pa-Pb /= 0  '"
      ]
     },
     "execution_count": 9,
     "metadata": {},
     "output_type": "execute_result"
    }
   ],
   "source": [
    "'''Ho => Pa-Pb = 0\n",
    "   Ha => Pa-Pb /= 0  '''       # /= (means not equal)"
   ]
  },
  {
   "cell_type": "code",
   "execution_count": 10,
   "id": "c1fb1c16-49a9-4d09-a7d2-15a89aaebdc4",
   "metadata": {},
   "outputs": [],
   "source": [
    "Sample_mean_a = 80\n",
    "Sample_mean_b = 75\n",
    "'''Population_mean_a - Population_mean_b = 1'''\n",
    "Sample_STD_a = 5\n",
    "Sample_STD_b = 6\n",
    "n_a = 20\n",
    "n_b = 20\n",
    "Alpha1 = 0.025"
   ]
  },
  {
   "cell_type": "code",
   "execution_count": 11,
   "id": "b51dc036-dea2-451d-afee-ebe5107d68cb",
   "metadata": {},
   "outputs": [
    {
     "data": {
      "text/plain": [
       "38"
      ]
     },
     "execution_count": 11,
     "metadata": {},
     "output_type": "execute_result"
    }
   ],
   "source": [
    "df1 = (n_a+n_b-2)\n",
    "df1"
   ]
  },
  {
   "cell_type": "code",
   "execution_count": 12,
   "id": "5ee8fdf8-bed2-4f42-9133-40fe984efdba",
   "metadata": {},
   "outputs": [
    {
     "data": {
      "text/plain": [
       "2.024394163911969"
      ]
     },
     "execution_count": 12,
     "metadata": {},
     "output_type": "execute_result"
    }
   ],
   "source": [
    "T_table1 = st.t.ppf(1-Alpha1,df1)                    # [1-] is use for (make the value posative)\n",
    "T_table1"
   ]
  },
  {
   "cell_type": "code",
   "execution_count": 13,
   "id": "83442d21-ca0e-4189-84a9-f66c6c7ed888",
   "metadata": {},
   "outputs": [
    {
     "data": {
      "text/plain": [
       "3.1311214554257476"
      ]
     },
     "execution_count": 13,
     "metadata": {},
     "output_type": "execute_result"
    }
   ],
   "source": [
    "T_cal1 = (Sample_mean_a-Sample_mean_b)/(np.sqrt((25/20)+(26/20)))\n",
    "T_cal1 "
   ]
  },
  {
   "cell_type": "code",
   "execution_count": 14,
   "id": "4274005a-858a-4e2e-a0fd-8afe8cf5b0f7",
   "metadata": {},
   "outputs": [
    {
     "name": "stdout",
     "output_type": "stream",
     "text": [
      "Ha is Right\n"
     ]
    }
   ],
   "source": [
    "if T_cal1 > T_table1:\n",
    "    print(\"Ha is Right\")\n",
    "else :\n",
    "    print(\"Ho is Right\")"
   ]
  },
  {
   "cell_type": "markdown",
   "id": "45394171-4407-4dfd-b74b-1579e51b5d1c",
   "metadata": {},
   "source": [
    "# Exmple-3"
   ]
  },
  {
   "cell_type": "code",
   "execution_count": 15,
   "id": "03e6ceca-33f4-4549-b58f-84149a574561",
   "metadata": {},
   "outputs": [
    {
     "data": {
      "text/plain": [
       "2.093024054408263"
      ]
     },
     "execution_count": 15,
     "metadata": {},
     "output_type": "execute_result"
    }
   ],
   "source": [
    "T_table2 = st.t.ppf(1-0.025,19)                    # [1-] is use for (make the value posative)\n",
    "T_table2"
   ]
  },
  {
   "cell_type": "code",
   "execution_count": 106,
   "id": "457a7e08-6aec-419f-979b-a422d130b6f0",
   "metadata": {},
   "outputs": [],
   "source": [
    "Xa= np.array([50,60,45,65,55,70,40,75,80,65,70,60,50,55,45,75,60,50,65,70])  \n",
    "Xb= np.array([60,70,55,75,65,80,50,85,90,70,75,65,55,60,50,80,65,55,70,75])"
   ]
  },
  {
   "cell_type": "code",
   "execution_count": 107,
   "id": "ec870cc4-9a2b-4e54-8afd-d23092d9fb11",
   "metadata": {},
   "outputs": [
    {
     "data": {
      "text/plain": [
       "(60.25, 67.5)"
      ]
     },
     "execution_count": 107,
     "metadata": {},
     "output_type": "execute_result"
    }
   ],
   "source": [
    "STD_a = np.std(Xa)\n",
    "STD_b = np.std(Xa)\n",
    "Sample_Mean_a = np.mean(Xa) \n",
    "Sample_Mean_b = np.mean(Xb)\n",
    "Sample_Mean_a , Sample_Mean_b"
   ]
  },
  {
   "cell_type": "code",
   "execution_count": 111,
   "id": "dd262744-68f2-4842-9396-58c63a24f481",
   "metadata": {},
   "outputs": [
    {
     "data": {
      "text/plain": [
       "2.082615485747426"
      ]
     },
     "execution_count": 111,
     "metadata": {},
     "output_type": "execute_result"
    }
   ],
   "source": [
    "T_table2 = (Sample_Mean_b-Sample_Mean_a)/ np.sqrt(((STD_a*STD_a)/len(Xa))+(((STD_b*STD_b)/len(Xb))))\n",
    "T_table2"
   ]
  },
  {
   "cell_type": "code",
   "execution_count": 112,
   "id": "bd42c983-73b3-447e-b485-86ea954d008d",
   "metadata": {},
   "outputs": [
    {
     "name": "stdout",
     "output_type": "stream",
     "text": [
      "Ho is Right\n"
     ]
    }
   ],
   "source": [
    "if T_cal2 > T_table2:\n",
    "    print(\"Ha is Right\")\n",
    "else :\n",
    "    print(\"Ho is Right\")"
   ]
  },
  {
   "cell_type": "code",
   "execution_count": null,
   "id": "3fb8432b-565f-462d-af79-b8a5976c33a3",
   "metadata": {},
   "outputs": [],
   "source": []
  }
 ],
 "metadata": {
  "kernelspec": {
   "display_name": "Python 3 (ipykernel)",
   "language": "python",
   "name": "python3"
  },
  "language_info": {
   "codemirror_mode": {
    "name": "ipython",
    "version": 3
   },
   "file_extension": ".py",
   "mimetype": "text/x-python",
   "name": "python",
   "nbconvert_exporter": "python",
   "pygments_lexer": "ipython3",
   "version": "3.12.5"
  }
 },
 "nbformat": 4,
 "nbformat_minor": 5
}
