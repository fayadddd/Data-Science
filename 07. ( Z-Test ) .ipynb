{
 "cells": [
  {
   "cell_type": "code",
   "execution_count": 1,
   "id": "81d17a24-0d1a-4b4a-9a50-900de9a8e187",
   "metadata": {},
   "outputs": [],
   "source": [
    "import scipy.stats as st\n",
    "import numpy as np "
   ]
  },
  {
   "cell_type": "markdown",
   "id": "98754039-f546-4c7d-b106-54f51124fa14",
   "metadata": {},
   "source": [
    "# Z-Test\n"
   ]
  },
  {
   "cell_type": "markdown",
   "id": "2959d29b-b79b-43ea-a9d7-9ebba9d7f1f8",
   "metadata": {},
   "source": [
    "## QN: A teacher claims that the mean of student scores in this class is greater than 82 with a STD of 20.If a sample of 81 student was selected with  am mean score of 90"
   ]
  },
  {
   "cell_type": "code",
   "execution_count": 2,
   "id": "9501b689-1c5a-4a90-8fec-1788f1ccc7a8",
   "metadata": {},
   "outputs": [],
   "source": [
    "Sample_mean = 90\n",
    "Population_mean = 82\n",
    "Population_STD = 20\n",
    "n = 81\n",
    "Alpha = 0.05"
   ]
  },
  {
   "cell_type": "code",
   "execution_count": 5,
   "id": "d0fc9859-dea5-4997-90fc-505a890b3ec3",
   "metadata": {},
   "outputs": [
    {
     "data": {
      "text/plain": [
       "1.6448536269514722"
      ]
     },
     "execution_count": 5,
     "metadata": {},
     "output_type": "execute_result"
    }
   ],
   "source": [
    "Z_table = st.norm.ppf(1-Alpha)\n",
    "Z_table"
   ]
  },
  {
   "cell_type": "code",
   "execution_count": 3,
   "id": "052264eb-a757-4e19-b35c-69f71a587fda",
   "metadata": {},
   "outputs": [
    {
     "data": {
      "text/plain": [
       "3.5999999999999996"
      ]
     },
     "execution_count": 3,
     "metadata": {},
     "output_type": "execute_result"
    }
   ],
   "source": [
    "Z_cal = (Sample_mean - Population_mean)/(Population_STD/np.sqrt(n))\n",
    "Z_cal"
   ]
  },
  {
   "cell_type": "code",
   "execution_count": 6,
   "id": "a3c5e669-d5b0-4d40-a25c-9cc17ff63cbb",
   "metadata": {},
   "outputs": [
    {
     "name": "stdout",
     "output_type": "stream",
     "text": [
      "Ha is Right\n"
     ]
    }
   ],
   "source": [
    "if Z_cal > Z_table:\n",
    "    print(\"Ha is Right\")\n",
    "else :\n",
    "    print(\"Ho is Right\")"
   ]
  },
  {
   "cell_type": "markdown",
   "id": "f02e1ef6-942d-43ce-917e-00c83404723d",
   "metadata": {},
   "source": [
    "## QN: Compare old Website to New Website Desian"
   ]
  },
  {
   "cell_type": "code",
   "execution_count": 30,
   "id": "94194da4-abdf-4fd9-8111-a641bdfbacb6",
   "metadata": {},
   "outputs": [],
   "source": [
    "old_number_data = np.array([42.3, 45.8, 47.1, 40.5, 49.2, 43.9, 46.7, 41.2, 48.6, 44.0,  \n",
    " 40.8, 47.5, 42.1, 45.4, 49.9, 43.2, 46.8, 41.7, 48.0, 44.6, 40.3, 47.1, 42.9, 45.6, 49.4, 43.5, 46.2, 41.0, 48.7, 44.3])\n",
    "\n",
    "new_number_data = np.array([48.3, 41.7, 45.0, 49.6, 43.8, 47.2, 42.5, 46.9, 44.1, 40.4,  \n",
    " 50.0, 43.1, 47.8, 42.6, 45.7, 41.3, 49.5, 44.9, 46.0, 48.6, 40.1, 42.8, 47.4, 45.2, 49.0, 43.6, 46.8, 41.5, 48.1, 44.7])"
   ]
  },
  {
   "cell_type": "code",
   "execution_count": 59,
   "id": "cbc84573-4089-4245-aa0e-696208220d82",
   "metadata": {},
   "outputs": [],
   "source": [
    "''' population_mean_new = population_mean_old'''\n",
    "Population_STD1 = 1.0\n",
    "n = len(old_number_data)\n",
    "Alpha1 = 0.05"
   ]
  },
  {
   "cell_type": "code",
   "execution_count": 60,
   "id": "f6802d13-3777-457c-88db-7d6d5f1efe42",
   "metadata": {},
   "outputs": [],
   "source": [
    "mean_old = np.mean(old_number_data)\n",
    "mean_new = np.mean(new_number_data)"
   ]
  },
  {
   "cell_type": "code",
   "execution_count": 62,
   "id": "36f1f93b-2451-4c06-96db-68015ed6fb99",
   "metadata": {},
   "outputs": [
    {
     "data": {
      "text/plain": [
       "3.5999999999999996"
      ]
     },
     "execution_count": 62,
     "metadata": {},
     "output_type": "execute_result"
    }
   ],
   "source": [
    "Z_cal1 = (mean_new - mean_old)/(Population_STD1/np.sqrt(n))  #    p_new = p_old\n",
    "Z_cal                                                        # => p_old = p_old\n",
    "                                                             # => 1         "
   ]
  },
  {
   "cell_type": "code",
   "execution_count": 63,
   "id": "70373772-3f2a-40c9-b19a-2db01e3e0b9c",
   "metadata": {},
   "outputs": [
    {
     "data": {
      "text/plain": [
       "1.6448536269514722"
      ]
     },
     "execution_count": 63,
     "metadata": {},
     "output_type": "execute_result"
    }
   ],
   "source": [
    "Z_table1 = st.norm.ppf(1-Alpha1)\n",
    "Z_table1"
   ]
  },
  {
   "cell_type": "code",
   "execution_count": 55,
   "id": "c0f5b44c-7071-4765-b363-d775d38ee0e0",
   "metadata": {},
   "outputs": [
    {
     "name": "stdout",
     "output_type": "stream",
     "text": [
      "Ha is Right\n"
     ]
    }
   ],
   "source": [
    "if Z_cal1 > Z_table1:\n",
    "    print(\"Ha is Right\")\n",
    "else :\n",
    "    print(\"Ho is Right\")"
   ]
  },
  {
   "cell_type": "code",
   "execution_count": null,
   "id": "a662f286-5e82-45c8-b67f-2b37f1d4edee",
   "metadata": {},
   "outputs": [],
   "source": []
  }
 ],
 "metadata": {
  "kernelspec": {
   "display_name": "Python 3 (ipykernel)",
   "language": "python",
   "name": "python3"
  },
  "language_info": {
   "codemirror_mode": {
    "name": "ipython",
    "version": 3
   },
   "file_extension": ".py",
   "mimetype": "text/x-python",
   "name": "python",
   "nbconvert_exporter": "python",
   "pygments_lexer": "ipython3",
   "version": "3.12.5"
  }
 },
 "nbformat": 4,
 "nbformat_minor": 5
}
