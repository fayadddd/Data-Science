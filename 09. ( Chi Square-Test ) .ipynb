{
 "cells": [
  {
   "cell_type": "code",
   "execution_count": 32,
   "id": "fd0af064-5f2c-4cb3-8c64-41cdd5d054f9",
   "metadata": {},
   "outputs": [],
   "source": [
    "import scipy.stats as st\n",
    "import numpy as np "
   ]
  },
  {
   "cell_type": "markdown",
   "id": "960017aa-9718-4ee2-9cf7-be29bae64ec6",
   "metadata": {},
   "source": [
    "# Exmple-1\n"
   ]
  },
  {
   "cell_type": "code",
   "execution_count": 33,
   "id": "0dc93e40-c3e8-4d0c-ab08-73ff549bf8ba",
   "metadata": {},
   "outputs": [
    {
     "data": {
      "text/plain": [
       "5"
      ]
     },
     "execution_count": 33,
     "metadata": {},
     "output_type": "execute_result"
    }
   ],
   "source": [
    "df = 6-1\n",
    "df"
   ]
  },
  {
   "cell_type": "code",
   "execution_count": 34,
   "id": "f21ff2f6-9095-4959-a2f4-ad252ce26344",
   "metadata": {},
   "outputs": [],
   "source": [
    "Chi_table = 11.07"
   ]
  },
  {
   "cell_type": "code",
   "execution_count": 37,
   "id": "d2ddb89a-8d6f-4206-b3a6-5a64e25100c0",
   "metadata": {},
   "outputs": [],
   "source": [
    "Oi=np.array([22,17,20,26,22,13])\n",
    "Ei=np.array([20,20,20,20,20,20])"
   ]
  },
  {
   "cell_type": "code",
   "execution_count": 38,
   "id": "bf5102e0-bee3-46b8-90b5-2dbecf3ded7f",
   "metadata": {},
   "outputs": [],
   "source": [
    "Chi_cal=np.sum(np.square(Oi-Ei)/Ei)"
   ]
  },
  {
   "cell_type": "code",
   "execution_count": 39,
   "id": "d4aa1f73-78fc-4547-8349-ede0b88b74f3",
   "metadata": {},
   "outputs": [
    {
     "name": "stdout",
     "output_type": "stream",
     "text": [
      "Ho is Right\n"
     ]
    }
   ],
   "source": [
    "if Chi_cal > Chi_table:                      \n",
    "    print(\"Ha is Right\")                \n",
    "else :                                    \n",
    "    print(\"Ho is Right\") "
   ]
  },
  {
   "cell_type": "markdown",
   "id": "1f1c7a7e-6684-4ff7-81b3-8367c6406093",
   "metadata": {},
   "source": [
    "# Exmple-2"
   ]
  },
  {
   "cell_type": "code",
   "execution_count": 55,
   "id": "b72f2bd4-3549-458f-9eee-b54f2725b737",
   "metadata": {},
   "outputs": [],
   "source": [
    "row1 = np.array([40,45,25,10])\n",
    "row2 = np.array([35,30,20,30])"
   ]
  },
  {
   "cell_type": "code",
   "execution_count": 77,
   "id": "80656d8d-8cbf-480e-a74a-5beb5e8f4879",
   "metadata": {},
   "outputs": [],
   "source": [
    "n=235\n",
    "Chi_table1= 7.815"
   ]
  },
  {
   "cell_type": "code",
   "execution_count": 78,
   "id": "afd99253-f691-48db-a23d-37b3e60723a4",
   "metadata": {},
   "outputs": [
    {
     "data": {
      "text/plain": [
       "(120, 115)"
      ]
     },
     "execution_count": 78,
     "metadata": {},
     "output_type": "execute_result"
    }
   ],
   "source": [
    "sum_r1 = np.sum(row1)\n",
    "sum_r2 = np.sum(row2)\n",
    "sum_r1 , sum_r2"
   ]
  },
  {
   "cell_type": "code",
   "execution_count": 79,
   "id": "59d57d24-63e2-44e3-9240-460958b74cbe",
   "metadata": {},
   "outputs": [
    {
     "data": {
      "text/plain": [
       "array([120, 115])"
      ]
     },
     "execution_count": 79,
     "metadata": {},
     "output_type": "execute_result"
    }
   ],
   "source": [
    "sum_row = np.array([sum_r1 , sum_r2])\n",
    "sum_row"
   ]
  },
  {
   "cell_type": "code",
   "execution_count": 80,
   "id": "185ab519-c76c-4aa2-84ad-3162d54e7354",
   "metadata": {},
   "outputs": [
    {
     "data": {
      "text/plain": [
       "array([75, 75, 45, 40])"
      ]
     },
     "execution_count": 80,
     "metadata": {},
     "output_type": "execute_result"
    }
   ],
   "source": [
    "sum_cal = row1+row2\n",
    "sum_cal"
   ]
  },
  {
   "cell_type": "code",
   "execution_count": 81,
   "id": "07869e75-708f-45db-8305-b548fb02cf1c",
   "metadata": {},
   "outputs": [
    {
     "data": {
      "text/plain": [
       "[38.297872340425535,\n",
       " 38.297872340425535,\n",
       " 22.97872340425532,\n",
       " 20.425531914893618,\n",
       " 36.702127659574465,\n",
       " 36.702127659574465,\n",
       " 22.02127659574468,\n",
       " 19.574468085106382]"
      ]
     },
     "execution_count": 81,
     "metadata": {},
     "output_type": "execute_result"
    }
   ],
   "source": [
    "Ei = []\n",
    "for i in sum_row:\n",
    "    for j in sum_cal:\n",
    "        value = (i*j)/n\n",
    "        Ei.append(value)\n",
    "Ei"
   ]
  },
  {
   "cell_type": "code",
   "execution_count": 82,
   "id": "4ee66b56-6746-4e60-b781-ed3096a08208",
   "metadata": {},
   "outputs": [
    {
     "data": {
      "text/plain": [
       "array([40, 45, 25, 10, 35, 30, 20, 30])"
      ]
     },
     "execution_count": 82,
     "metadata": {},
     "output_type": "execute_result"
    }
   ],
   "source": [
    "Oi = np.array([40,45,25,10,35,30,20,30])\n",
    "Oi"
   ]
  },
  {
   "cell_type": "code",
   "execution_count": 83,
   "id": "a3fc69d9-9e7f-48f9-977a-596998b105e8",
   "metadata": {},
   "outputs": [
    {
     "data": {
      "text/plain": [
       "13.788747987117553"
      ]
     },
     "execution_count": 83,
     "metadata": {},
     "output_type": "execute_result"
    }
   ],
   "source": [
    "Chi_cal1=np.sum(np.square(Oi-Ei)/Ei)\n",
    "Chi_cal1"
   ]
  },
  {
   "cell_type": "code",
   "execution_count": 84,
   "id": "c2672d2d-68a0-4a20-8498-74e646e3345b",
   "metadata": {},
   "outputs": [
    {
     "name": "stdout",
     "output_type": "stream",
     "text": [
      "Ha is Right\n"
     ]
    }
   ],
   "source": [
    "if Chi_cal > Chi_table1:                      \n",
    "    print(\"Ha is Right\")                \n",
    "else :                                    \n",
    "    print(\"Ho is Right\") "
   ]
  },
  {
   "cell_type": "code",
   "execution_count": null,
   "id": "d6f5b8c0-1f5a-4a6d-b671-2ce39b0c7bf7",
   "metadata": {},
   "outputs": [],
   "source": []
  }
 ],
 "metadata": {
  "kernelspec": {
   "display_name": "Python 3 (ipykernel)",
   "language": "python",
   "name": "python3"
  },
  "language_info": {
   "codemirror_mode": {
    "name": "ipython",
    "version": 3
   },
   "file_extension": ".py",
   "mimetype": "text/x-python",
   "name": "python",
   "nbconvert_exporter": "python",
   "pygments_lexer": "ipython3",
   "version": "3.12.5"
  }
 },
 "nbformat": 4,
 "nbformat_minor": 5
}
